{
  "nbformat": 4,
  "nbformat_minor": 0,
  "metadata": {
    "colab": {
      "name": "Nd_4.ipynb",
      "version": "0.3.2",
      "provenance": [],
      "collapsed_sections": [],
      "include_colab_link": true
    },
    "kernelspec": {
      "name": "python3",
      "display_name": "Python 3"
    }
  },
  "cells": [
    {
      "cell_type": "markdown",
      "metadata": {
        "id": "view-in-github",
        "colab_type": "text"
      },
      "source": [
        "<a href=\"https://colab.research.google.com/github/dasminakshi/pythonNanodegree/blob/master/Nd_4.ipynb\" target=\"_parent\"><img src=\"https://colab.research.google.com/assets/colab-badge.svg\" alt=\"Open In Colab\"/></a>"
      ]
    },
    {
      "metadata": {
        "id": "WbgQ5KLHsyWA",
        "colab_type": "code",
        "outputId": "5b734bcc-d517-4213-df08-231ee404d234",
        "colab": {
          "base_uri": "https://localhost:8080/",
          "height": 187
        }
      },
      "cell_type": "code",
      "source": [
        "for i in range(10,0,-1):\n",
        "  print(i)"
      ],
      "execution_count": 0,
      "outputs": [
        {
          "output_type": "stream",
          "text": [
            "10\n",
            "9\n",
            "8\n",
            "7\n",
            "6\n",
            "5\n",
            "4\n",
            "3\n",
            "2\n",
            "1\n"
          ],
          "name": "stdout"
        }
      ]
    },
    {
      "metadata": {
        "id": "HEvzN3metCUt",
        "colab_type": "code",
        "colab": {}
      },
      "cell_type": "code",
      "source": [
        "a = {\"aa\":2, \"bb\":3, \"cc\": 4}"
      ],
      "execution_count": 0,
      "outputs": []
    },
    {
      "metadata": {
        "id": "_HCILVsrRXhX",
        "colab_type": "code",
        "outputId": "93f9c20f-d308-46c5-f446-8728d6434b81",
        "colab": {
          "base_uri": "https://localhost:8080/",
          "height": 34
        }
      },
      "cell_type": "code",
      "source": [
        "if 'aa' in a:\n",
        "  print(a['aa'])"
      ],
      "execution_count": 0,
      "outputs": [
        {
          "output_type": "stream",
          "text": [
            "2\n"
          ],
          "name": "stdout"
        }
      ]
    },
    {
      "metadata": {
        "id": "tFfIiw24Rgrw",
        "colab_type": "code",
        "outputId": "a199dbee-6d2f-4c4c-af48-fb2b889990fd",
        "colab": {
          "base_uri": "https://localhost:8080/",
          "height": 163
        }
      },
      "cell_type": "code",
      "source": [
        "argmax(a.values)"
      ],
      "execution_count": 0,
      "outputs": [
        {
          "output_type": "error",
          "ename": "NameError",
          "evalue": "ignored",
          "traceback": [
            "\u001b[0;31m---------------------------------------------------------------------------\u001b[0m",
            "\u001b[0;31mNameError\u001b[0m                                 Traceback (most recent call last)",
            "\u001b[0;32m<ipython-input-3-f32374407526>\u001b[0m in \u001b[0;36m<module>\u001b[0;34m()\u001b[0m\n\u001b[0;32m----> 1\u001b[0;31m \u001b[0margmax\u001b[0m\u001b[0;34m(\u001b[0m\u001b[0ma\u001b[0m\u001b[0;34m.\u001b[0m\u001b[0mvalues\u001b[0m\u001b[0;34m)\u001b[0m\u001b[0;34m\u001b[0m\u001b[0;34m\u001b[0m\u001b[0m\n\u001b[0m",
            "\u001b[0;31mNameError\u001b[0m: name 'argmax' is not defined"
          ]
        }
      ]
    },
    {
      "metadata": {
        "id": "WopagIOrSfP7",
        "colab_type": "code",
        "outputId": "5b123ec8-df83-449b-d28b-5724f0ed67b3",
        "colab": {
          "base_uri": "https://localhost:8080/",
          "height": 34
        }
      },
      "cell_type": "code",
      "source": [
        "def vol(rad, h=7):\n",
        "  pi = 3.14\n",
        "  volume = pi*h*(rad**2)\n",
        "  print(\"volume {}\".format(volume))\n",
        "  return \n",
        "vol(7,5)  "
      ],
      "execution_count": 0,
      "outputs": [
        {
          "output_type": "stream",
          "text": [
            "volume 769.3000000000001\n"
          ],
          "name": "stdout"
        }
      ]
    },
    {
      "metadata": {
        "id": "zDH7GPpZdhqK",
        "colab_type": "code",
        "outputId": "7aeb7b00-9448-4fc5-a4bc-13d86b7de964",
        "colab": {
          "base_uri": "https://localhost:8080/",
          "height": 204
        }
      },
      "cell_type": "code",
      "source": [
        "\n",
        "fitness = {'minu':{'weight':[62, 62.5, 63], 'sleep':[6,5,4]}, 'vikas': {'weight':[74,75.5,76], 'sleep':[5,6,7]}}\n",
        "compare_weight= fitness['vikas']['weight']\n",
        "print(fitness) \n",
        "print(\"vikas_weight = {}\".format(compare_weight))\n",
        "i = 0\n",
        "for i in range(len(compare_weight)):\n",
        "  if compare_weight[i-1] == compare_weight[i]:\n",
        "    print(\"similar\")\n",
        "  else:\n",
        "    print(\"not similar\")\n",
        "  print(compare_weight[i])\n",
        "  print(compare_weight[i-1])"
      ],
      "execution_count": 0,
      "outputs": [
        {
          "output_type": "stream",
          "text": [
            "{'minu': {'weight': [62, 62.5, 63], 'sleep': [6, 5, 4]}, 'vikas': {'weight': [74, 75.5, 76], 'sleep': [5, 6, 7]}}\n",
            "vikas_weight = [74, 75.5, 76]\n",
            "not similar\n",
            "74\n",
            "76\n",
            "not similar\n",
            "75.5\n",
            "74\n",
            "not similar\n",
            "76\n",
            "75.5\n"
          ],
          "name": "stdout"
        }
      ]
    },
    {
      "metadata": {
        "id": "aFYz8Rxpeuyw",
        "colab_type": "code",
        "colab": {}
      },
      "cell_type": "code",
      "source": [
        "n = 122\n",
        "if (n%2) != 0:\n",
        "    print(\"Weird\")\n",
        "elif (n%2) == 0 and n>=2 and n<=5:\n",
        "    print(\"Not Weird\")\n",
        "elif n%2 == 0 and n>=6 and n<=20:\n",
        "    print(\"Weird\")\n",
        "elif n%2 == 0 and n>20 and n<=100:\n",
        "    print(\"Not Weird\") "
      ],
      "execution_count": 0,
      "outputs": []
    },
    {
      "metadata": {
        "id": "tyCsgWeGEO7j",
        "colab_type": "code",
        "outputId": "67af56fa-bb98-48e1-d4d0-dce880c01459",
        "colab": {
          "base_uri": "https://localhost:8080/",
          "height": 945
        }
      },
      "cell_type": "code",
      "source": [
        "if __name__ == '__main__':\n",
        "    n = int(input())\n",
        "    i = 0\n",
        "    for i in n:\n",
        "        result = i**2\n",
        "        print(\"result: {}\".format(result))"
      ],
      "execution_count": 0,
      "outputs": [
        {
          "output_type": "error",
          "ename": "KeyboardInterrupt",
          "evalue": "ignored",
          "traceback": [
            "\u001b[0;31m---------------------------------------------------------------------------\u001b[0m",
            "\u001b[0;31mKeyboardInterrupt\u001b[0m                         Traceback (most recent call last)",
            "\u001b[0;32m/usr/local/lib/python3.6/dist-packages/ipykernel/kernelbase.py\u001b[0m in \u001b[0;36m_input_request\u001b[0;34m(self, prompt, ident, parent, password)\u001b[0m\n\u001b[1;32m    729\u001b[0m             \u001b[0;32mtry\u001b[0m\u001b[0;34m:\u001b[0m\u001b[0;34m\u001b[0m\u001b[0;34m\u001b[0m\u001b[0m\n\u001b[0;32m--> 730\u001b[0;31m                 \u001b[0mident\u001b[0m\u001b[0;34m,\u001b[0m \u001b[0mreply\u001b[0m \u001b[0;34m=\u001b[0m \u001b[0mself\u001b[0m\u001b[0;34m.\u001b[0m\u001b[0msession\u001b[0m\u001b[0;34m.\u001b[0m\u001b[0mrecv\u001b[0m\u001b[0;34m(\u001b[0m\u001b[0mself\u001b[0m\u001b[0;34m.\u001b[0m\u001b[0mstdin_socket\u001b[0m\u001b[0;34m,\u001b[0m \u001b[0;36m0\u001b[0m\u001b[0;34m)\u001b[0m\u001b[0;34m\u001b[0m\u001b[0;34m\u001b[0m\u001b[0m\n\u001b[0m\u001b[1;32m    731\u001b[0m             \u001b[0;32mexcept\u001b[0m \u001b[0mException\u001b[0m\u001b[0;34m:\u001b[0m\u001b[0;34m\u001b[0m\u001b[0;34m\u001b[0m\u001b[0m\n",
            "\u001b[0;32m/usr/local/lib/python3.6/dist-packages/jupyter_client/session.py\u001b[0m in \u001b[0;36mrecv\u001b[0;34m(self, socket, mode, content, copy)\u001b[0m\n\u001b[1;32m    802\u001b[0m         \u001b[0;32mtry\u001b[0m\u001b[0;34m:\u001b[0m\u001b[0;34m\u001b[0m\u001b[0;34m\u001b[0m\u001b[0m\n\u001b[0;32m--> 803\u001b[0;31m             \u001b[0mmsg_list\u001b[0m \u001b[0;34m=\u001b[0m \u001b[0msocket\u001b[0m\u001b[0;34m.\u001b[0m\u001b[0mrecv_multipart\u001b[0m\u001b[0;34m(\u001b[0m\u001b[0mmode\u001b[0m\u001b[0;34m,\u001b[0m \u001b[0mcopy\u001b[0m\u001b[0;34m=\u001b[0m\u001b[0mcopy\u001b[0m\u001b[0;34m)\u001b[0m\u001b[0;34m\u001b[0m\u001b[0;34m\u001b[0m\u001b[0m\n\u001b[0m\u001b[1;32m    804\u001b[0m         \u001b[0;32mexcept\u001b[0m \u001b[0mzmq\u001b[0m\u001b[0;34m.\u001b[0m\u001b[0mZMQError\u001b[0m \u001b[0;32mas\u001b[0m \u001b[0me\u001b[0m\u001b[0;34m:\u001b[0m\u001b[0;34m\u001b[0m\u001b[0;34m\u001b[0m\u001b[0m\n",
            "\u001b[0;32m/usr/local/lib/python3.6/dist-packages/zmq/sugar/socket.py\u001b[0m in \u001b[0;36mrecv_multipart\u001b[0;34m(self, flags, copy, track)\u001b[0m\n\u001b[1;32m    465\u001b[0m         \"\"\"\n\u001b[0;32m--> 466\u001b[0;31m         \u001b[0mparts\u001b[0m \u001b[0;34m=\u001b[0m \u001b[0;34m[\u001b[0m\u001b[0mself\u001b[0m\u001b[0;34m.\u001b[0m\u001b[0mrecv\u001b[0m\u001b[0;34m(\u001b[0m\u001b[0mflags\u001b[0m\u001b[0;34m,\u001b[0m \u001b[0mcopy\u001b[0m\u001b[0;34m=\u001b[0m\u001b[0mcopy\u001b[0m\u001b[0;34m,\u001b[0m \u001b[0mtrack\u001b[0m\u001b[0;34m=\u001b[0m\u001b[0mtrack\u001b[0m\u001b[0;34m)\u001b[0m\u001b[0;34m]\u001b[0m\u001b[0;34m\u001b[0m\u001b[0;34m\u001b[0m\u001b[0m\n\u001b[0m\u001b[1;32m    467\u001b[0m         \u001b[0;31m# have first part already, only loop while more to receive\u001b[0m\u001b[0;34m\u001b[0m\u001b[0;34m\u001b[0m\u001b[0;34m\u001b[0m\u001b[0m\n",
            "\u001b[0;32mzmq/backend/cython/socket.pyx\u001b[0m in \u001b[0;36mzmq.backend.cython.socket.Socket.recv\u001b[0;34m()\u001b[0m\n",
            "\u001b[0;32mzmq/backend/cython/socket.pyx\u001b[0m in \u001b[0;36mzmq.backend.cython.socket.Socket.recv\u001b[0;34m()\u001b[0m\n",
            "\u001b[0;32mzmq/backend/cython/socket.pyx\u001b[0m in \u001b[0;36mzmq.backend.cython.socket._recv_copy\u001b[0;34m()\u001b[0m\n",
            "\u001b[0;32m/usr/local/lib/python3.6/dist-packages/zmq/backend/cython/checkrc.pxd\u001b[0m in \u001b[0;36mzmq.backend.cython.checkrc._check_rc\u001b[0;34m()\u001b[0m\n",
            "\u001b[0;31mKeyboardInterrupt\u001b[0m: ",
            "\nDuring handling of the above exception, another exception occurred:\n",
            "\u001b[0;31mKeyboardInterrupt\u001b[0m                         Traceback (most recent call last)",
            "\u001b[0;32m<ipython-input-9-c93c8a2dcd2b>\u001b[0m in \u001b[0;36m<module>\u001b[0;34m()\u001b[0m\n\u001b[1;32m      1\u001b[0m \u001b[0;32mif\u001b[0m \u001b[0m__name__\u001b[0m \u001b[0;34m==\u001b[0m \u001b[0;34m'__main__'\u001b[0m\u001b[0;34m:\u001b[0m\u001b[0;34m\u001b[0m\u001b[0;34m\u001b[0m\u001b[0m\n\u001b[0;32m----> 2\u001b[0;31m     \u001b[0mn\u001b[0m \u001b[0;34m=\u001b[0m \u001b[0mint\u001b[0m\u001b[0;34m(\u001b[0m\u001b[0minput\u001b[0m\u001b[0;34m(\u001b[0m\u001b[0;34m)\u001b[0m\u001b[0;34m)\u001b[0m\u001b[0;34m\u001b[0m\u001b[0;34m\u001b[0m\u001b[0m\n\u001b[0m\u001b[1;32m      3\u001b[0m     \u001b[0mi\u001b[0m \u001b[0;34m=\u001b[0m \u001b[0;36m0\u001b[0m\u001b[0;34m\u001b[0m\u001b[0;34m\u001b[0m\u001b[0m\n\u001b[1;32m      4\u001b[0m     \u001b[0;32mfor\u001b[0m \u001b[0mi\u001b[0m \u001b[0;32min\u001b[0m \u001b[0mn\u001b[0m\u001b[0;34m:\u001b[0m\u001b[0;34m\u001b[0m\u001b[0;34m\u001b[0m\u001b[0m\n\u001b[1;32m      5\u001b[0m         \u001b[0mresult\u001b[0m \u001b[0;34m=\u001b[0m \u001b[0mi\u001b[0m\u001b[0;34m**\u001b[0m\u001b[0;36m2\u001b[0m\u001b[0;34m\u001b[0m\u001b[0;34m\u001b[0m\u001b[0m\n",
            "\u001b[0;32m/usr/local/lib/python3.6/dist-packages/ipykernel/kernelbase.py\u001b[0m in \u001b[0;36mraw_input\u001b[0;34m(self, prompt)\u001b[0m\n\u001b[1;32m    703\u001b[0m             \u001b[0mself\u001b[0m\u001b[0;34m.\u001b[0m\u001b[0m_parent_ident\u001b[0m\u001b[0;34m,\u001b[0m\u001b[0;34m\u001b[0m\u001b[0;34m\u001b[0m\u001b[0m\n\u001b[1;32m    704\u001b[0m             \u001b[0mself\u001b[0m\u001b[0;34m.\u001b[0m\u001b[0m_parent_header\u001b[0m\u001b[0;34m,\u001b[0m\u001b[0;34m\u001b[0m\u001b[0;34m\u001b[0m\u001b[0m\n\u001b[0;32m--> 705\u001b[0;31m             \u001b[0mpassword\u001b[0m\u001b[0;34m=\u001b[0m\u001b[0;32mFalse\u001b[0m\u001b[0;34m,\u001b[0m\u001b[0;34m\u001b[0m\u001b[0;34m\u001b[0m\u001b[0m\n\u001b[0m\u001b[1;32m    706\u001b[0m         )\n\u001b[1;32m    707\u001b[0m \u001b[0;34m\u001b[0m\u001b[0m\n",
            "\u001b[0;32m/usr/local/lib/python3.6/dist-packages/ipykernel/kernelbase.py\u001b[0m in \u001b[0;36m_input_request\u001b[0;34m(self, prompt, ident, parent, password)\u001b[0m\n\u001b[1;32m    733\u001b[0m             \u001b[0;32mexcept\u001b[0m \u001b[0mKeyboardInterrupt\u001b[0m\u001b[0;34m:\u001b[0m\u001b[0;34m\u001b[0m\u001b[0;34m\u001b[0m\u001b[0m\n\u001b[1;32m    734\u001b[0m                 \u001b[0;31m# re-raise KeyboardInterrupt, to truncate traceback\u001b[0m\u001b[0;34m\u001b[0m\u001b[0;34m\u001b[0m\u001b[0;34m\u001b[0m\u001b[0m\n\u001b[0;32m--> 735\u001b[0;31m                 \u001b[0;32mraise\u001b[0m \u001b[0mKeyboardInterrupt\u001b[0m\u001b[0;34m\u001b[0m\u001b[0;34m\u001b[0m\u001b[0m\n\u001b[0m\u001b[1;32m    736\u001b[0m             \u001b[0;32melse\u001b[0m\u001b[0;34m:\u001b[0m\u001b[0;34m\u001b[0m\u001b[0;34m\u001b[0m\u001b[0m\n\u001b[1;32m    737\u001b[0m                 \u001b[0;32mbreak\u001b[0m\u001b[0;34m\u001b[0m\u001b[0;34m\u001b[0m\u001b[0m\n",
            "\u001b[0;31mKeyboardInterrupt\u001b[0m: "
          ]
        }
      ]
    },
    {
      "metadata": {
        "id": "RoaQd-O1EgrT",
        "colab_type": "code",
        "outputId": "7834f523-ada5-416c-ad3f-9fb5802dc980",
        "colab": {
          "base_uri": "https://localhost:8080/",
          "height": 129
        }
      },
      "cell_type": "code",
      "source": [
        "if __name__ == '__main__':\n",
        "    n = []\n",
        "    i = 0\n",
        "    for i in n:\n",
        "        result = i**2\n",
        "        print(\"result: {}\".format(result))"
      ],
      "execution_count": 0,
      "outputs": [
        {
          "output_type": "error",
          "ename": "SyntaxError",
          "evalue": "ignored",
          "traceback": [
            "\u001b[0;36m  File \u001b[0;32m\"<ipython-input-12-a1bb3bdaba3b>\"\u001b[0;36m, line \u001b[0;32m2\u001b[0m\n\u001b[0;31m    n = [0:21]\u001b[0m\n\u001b[0m          ^\u001b[0m\n\u001b[0;31mSyntaxError\u001b[0m\u001b[0;31m:\u001b[0m invalid syntax\n"
          ]
        }
      ]
    },
    {
      "metadata": {
        "id": "8WcHN2OyEvaV",
        "colab_type": "code",
        "outputId": "5df2857b-4969-4375-d120-815b6a661a0c",
        "colab": {
          "base_uri": "https://localhost:8080/",
          "height": 316
        }
      },
      "cell_type": "code",
      "source": [
        "egg_count = 0\n",
        "\n",
        "def buy_eggs():\n",
        "    egg_count += 12 # purchase a dozen eggs\n",
        "\n",
        "buy_eggs()"
      ],
      "execution_count": 0,
      "outputs": [
        {
          "output_type": "error",
          "ename": "UnboundLocalError",
          "evalue": "ignored",
          "traceback": [
            "\u001b[0;31m---------------------------------------------------------------------------\u001b[0m",
            "\u001b[0;31mUnboundLocalError\u001b[0m                         Traceback (most recent call last)",
            "\u001b[0;32m<ipython-input-1-32dca0f4d031>\u001b[0m in \u001b[0;36m<module>\u001b[0;34m()\u001b[0m\n\u001b[1;32m      4\u001b[0m     \u001b[0megg_count\u001b[0m \u001b[0;34m+=\u001b[0m \u001b[0;36m12\u001b[0m \u001b[0;31m# purchase a dozen eggs\u001b[0m\u001b[0;34m\u001b[0m\u001b[0;34m\u001b[0m\u001b[0m\n\u001b[1;32m      5\u001b[0m \u001b[0;34m\u001b[0m\u001b[0m\n\u001b[0;32m----> 6\u001b[0;31m \u001b[0mbuy_eggs\u001b[0m\u001b[0;34m(\u001b[0m\u001b[0;34m)\u001b[0m\u001b[0;34m\u001b[0m\u001b[0;34m\u001b[0m\u001b[0m\n\u001b[0m",
            "\u001b[0;32m<ipython-input-1-32dca0f4d031>\u001b[0m in \u001b[0;36mbuy_eggs\u001b[0;34m()\u001b[0m\n\u001b[1;32m      2\u001b[0m \u001b[0;34m\u001b[0m\u001b[0m\n\u001b[1;32m      3\u001b[0m \u001b[0;32mdef\u001b[0m \u001b[0mbuy_eggs\u001b[0m\u001b[0;34m(\u001b[0m\u001b[0;34m)\u001b[0m\u001b[0;34m:\u001b[0m\u001b[0;34m\u001b[0m\u001b[0;34m\u001b[0m\u001b[0m\n\u001b[0;32m----> 4\u001b[0;31m     \u001b[0megg_count\u001b[0m \u001b[0;34m+=\u001b[0m \u001b[0;36m12\u001b[0m \u001b[0;31m# purchase a dozen eggs\u001b[0m\u001b[0;34m\u001b[0m\u001b[0;34m\u001b[0m\u001b[0m\n\u001b[0m\u001b[1;32m      5\u001b[0m \u001b[0;34m\u001b[0m\u001b[0m\n\u001b[1;32m      6\u001b[0m \u001b[0mbuy_eggs\u001b[0m\u001b[0;34m(\u001b[0m\u001b[0;34m)\u001b[0m\u001b[0;34m\u001b[0m\u001b[0;34m\u001b[0m\u001b[0m\n",
            "\u001b[0;31mUnboundLocalError\u001b[0m: local variable 'egg_count' referenced before assignment"
          ]
        }
      ]
    },
    {
      "metadata": {
        "id": "HVZzi1LCKmK6",
        "colab_type": "code",
        "outputId": "731062a1-9a8d-4c74-c597-7cae40111867",
        "colab": {
          "base_uri": "https://localhost:8080/",
          "height": 34
        }
      },
      "cell_type": "code",
      "source": [
        "str1 = 'Functions are important programming concepts.'\n",
        "\n",
        "def print_fn():\n",
        "    #str1 = 'Variable scope is an important concept.'\n",
        "    print(str1)\n",
        "\n",
        "print_fn()"
      ],
      "execution_count": 0,
      "outputs": [
        {
          "output_type": "stream",
          "text": [
            "Functions are important programming concepts.\n"
          ],
          "name": "stdout"
        }
      ]
    },
    {
      "metadata": {
        "id": "OnhfE7glfD53",
        "colab_type": "code",
        "outputId": "dad94836-6211-49cd-b565-3f63724a3b57",
        "colab": {
          "base_uri": "https://localhost:8080/",
          "height": 51
        }
      },
      "cell_type": "code",
      "source": [
        "x = int(input())\n",
        "print(x)"
      ],
      "execution_count": 0,
      "outputs": [
        {
          "output_type": "stream",
          "text": [
            "4\n",
            "4\n"
          ],
          "name": "stdout"
        }
      ]
    },
    {
      "metadata": {
        "id": "EOzpU8f0fLtw",
        "colab_type": "code",
        "outputId": "723256d6-6e75-40b1-fe5e-3769bd24cc62",
        "colab": {
          "base_uri": "https://localhost:8080/",
          "height": 34
        }
      },
      "cell_type": "code",
      "source": [
        "x,y,z = 2,3,4\n",
        "p=0\n",
        "p = x,y,z\n",
        "print(p[0])"
      ],
      "execution_count": 0,
      "outputs": [
        {
          "output_type": "stream",
          "text": [
            "2\n"
          ],
          "name": "stdout"
        }
      ]
    },
    {
      "metadata": {
        "id": "4NdBSkGyg1Ea",
        "colab_type": "code",
        "outputId": "92e64c21-9580-4715-ed77-a84b9f39a5d0",
        "colab": {
          "base_uri": "https://localhost:8080/",
          "height": 68
        }
      },
      "cell_type": "code",
      "source": [
        "if __name__ == '__main__':\n",
        "    n = int(input())\n",
        "    arr = map(int, input().split())\n",
        "    i = 0 \n",
        "    x = 0\n",
        "    p = []\n",
        "    for i in arr:\n",
        "      p.append(i)\n",
        "    print(p)"
      ],
      "execution_count": 0,
      "outputs": [
        {
          "output_type": "stream",
          "text": [
            "5\n",
            "1 4 2 3 5\n",
            "[1, 4, 2, 3, 5]\n"
          ],
          "name": "stdout"
        }
      ]
    },
    {
      "metadata": {
        "id": "s0fmg3FskUTS",
        "colab_type": "code",
        "outputId": "844eab5e-214c-45aa-938f-8b80879e29b6",
        "colab": {
          "base_uri": "https://localhost:8080/",
          "height": 68
        }
      },
      "cell_type": "code",
      "source": [
        "if __name__ == '__main__':\n",
        "    n = int(input())\n",
        "    arr = map(int, input().split())\n",
        "    max, max2 = -200, -200\n",
        "    i = 0\n",
        "    j = 0\n",
        "    p = []\n",
        "    for j in arr:\n",
        "      p.append(j)\n",
        "    for i in p:\n",
        "      if i > max:\n",
        "        max2 = max\n",
        "        max = i\n",
        "      elif i > max2 and i < max:\n",
        "        max2 = i\n",
        "    print(max2)"
      ],
      "execution_count": 0,
      "outputs": [
        {
          "output_type": "stream",
          "text": [
            "5\n",
            "6 6 5 4 3\n",
            "5\n"
          ],
          "name": "stdout"
        }
      ]
    },
    {
      "metadata": {
        "id": "bPU9JASxLSUX",
        "colab_type": "code",
        "outputId": "7e2240ef-c323-4061-8159-e3d69f66aa4b",
        "colab": {
          "base_uri": "https://localhost:8080/",
          "height": 34
        }
      },
      "cell_type": "code",
      "source": [
        "import ctypes\n",
        "ctypes.c_ulong(-1) "
      ],
      "execution_count": 0,
      "outputs": [
        {
          "output_type": "execute_result",
          "data": {
            "text/plain": [
              "c_ulong(18446744073709551615)"
            ]
          },
          "metadata": {
            "tags": []
          },
          "execution_count": 32
        }
      ]
    },
    {
      "metadata": {
        "id": "nVR6lmdnQ45d",
        "colab_type": "code",
        "outputId": "2fc830ba-3fa2-47e6-802b-dcd4380c6e3c",
        "colab": {
          "base_uri": "https://localhost:8080/",
          "height": 68
        }
      },
      "cell_type": "code",
      "source": [
        "n = int(input())\n",
        "numb = input()\n",
        "lis = list(map(int, numb.split()))\n",
        "big, sbig = -6000, -6000\n",
        "for i in lis:\n",
        "    if (i > big):\n",
        "        big, sbig = i, big\n",
        "    elif (i < big and i > sbig):\n",
        "        sbig = i\n",
        "print (sbig)"
      ],
      "execution_count": 0,
      "outputs": [
        {
          "output_type": "stream",
          "text": [
            "5\n",
            "6 6 5 4 3\n",
            "5\n"
          ],
          "name": "stdout"
        }
      ]
    },
    {
      "metadata": {
        "id": "ZJsSP2KXUGTW",
        "colab_type": "code",
        "outputId": "3b2549ed-f433-4f63-b979-802c586ebeab",
        "colab": {
          "base_uri": "https://localhost:8080/",
          "height": 231
        }
      },
      "cell_type": "code",
      "source": [
        "students = [['Harry', 37.21], ['Berry', 37.21], ['Tina', 37.2], ['Akriti', 41], ['Harsh', 39]]\n",
        "if __name__ == '__main__':\n",
        "    for _ in range(3):\n",
        "        #name = ['x','y','z']\n",
        "        #score = [2.1, 3, 5.4]\n",
        "        max_score = []\n",
        "        runeer_score = []\n",
        "        i = 0\n",
        "        for i in range(len(students)):\n",
        "          if (max_score[i] > students[i][1]) and (students[i][1] > runner_score[i]):\n",
        "            runner_score[i] = students[i][1]\n",
        "            print(\"the runner up is:{}\".format(runner_score[0]))\n",
        "          elif students[i][1]>max_score[i]:\n",
        "            runner_score[i] = max_score[i]\n",
        "            max_score[i] = students[i][1]\n",
        "        \n",
        "    "
      ],
      "execution_count": 0,
      "outputs": [
        {
          "output_type": "error",
          "ename": "IndexError",
          "evalue": "ignored",
          "traceback": [
            "\u001b[0;31m---------------------------------------------------------------------------\u001b[0m",
            "\u001b[0;31mIndexError\u001b[0m                                Traceback (most recent call last)",
            "\u001b[0;32m<ipython-input-11-613199b440a4>\u001b[0m in \u001b[0;36m<module>\u001b[0;34m()\u001b[0m\n\u001b[1;32m      8\u001b[0m         \u001b[0mi\u001b[0m \u001b[0;34m=\u001b[0m \u001b[0;36m0\u001b[0m\u001b[0;34m\u001b[0m\u001b[0;34m\u001b[0m\u001b[0m\n\u001b[1;32m      9\u001b[0m         \u001b[0;32mfor\u001b[0m \u001b[0mi\u001b[0m \u001b[0;32min\u001b[0m \u001b[0mrange\u001b[0m\u001b[0;34m(\u001b[0m\u001b[0mlen\u001b[0m\u001b[0;34m(\u001b[0m\u001b[0mstudents\u001b[0m\u001b[0;34m)\u001b[0m\u001b[0;34m)\u001b[0m\u001b[0;34m:\u001b[0m\u001b[0;34m\u001b[0m\u001b[0;34m\u001b[0m\u001b[0m\n\u001b[0;32m---> 10\u001b[0;31m           \u001b[0;32mif\u001b[0m \u001b[0;34m(\u001b[0m\u001b[0mmax_score\u001b[0m\u001b[0;34m[\u001b[0m\u001b[0mi\u001b[0m\u001b[0;34m]\u001b[0m \u001b[0;34m>\u001b[0m \u001b[0mstudents\u001b[0m\u001b[0;34m[\u001b[0m\u001b[0mi\u001b[0m\u001b[0;34m]\u001b[0m\u001b[0;34m[\u001b[0m\u001b[0;36m1\u001b[0m\u001b[0;34m]\u001b[0m\u001b[0;34m)\u001b[0m \u001b[0;32mand\u001b[0m \u001b[0;34m(\u001b[0m\u001b[0mstudents\u001b[0m\u001b[0;34m[\u001b[0m\u001b[0mi\u001b[0m\u001b[0;34m]\u001b[0m\u001b[0;34m[\u001b[0m\u001b[0;36m1\u001b[0m\u001b[0;34m]\u001b[0m \u001b[0;34m>\u001b[0m \u001b[0mrunner_score\u001b[0m\u001b[0;34m[\u001b[0m\u001b[0mi\u001b[0m\u001b[0;34m]\u001b[0m\u001b[0;34m)\u001b[0m\u001b[0;34m:\u001b[0m\u001b[0;34m\u001b[0m\u001b[0;34m\u001b[0m\u001b[0m\n\u001b[0m\u001b[1;32m     11\u001b[0m             \u001b[0mrunner_score\u001b[0m\u001b[0;34m[\u001b[0m\u001b[0mi\u001b[0m\u001b[0;34m]\u001b[0m \u001b[0;34m=\u001b[0m \u001b[0mstudents\u001b[0m\u001b[0;34m[\u001b[0m\u001b[0mi\u001b[0m\u001b[0;34m]\u001b[0m\u001b[0;34m[\u001b[0m\u001b[0;36m1\u001b[0m\u001b[0;34m]\u001b[0m\u001b[0;34m\u001b[0m\u001b[0;34m\u001b[0m\u001b[0m\n\u001b[1;32m     12\u001b[0m             \u001b[0mprint\u001b[0m\u001b[0;34m(\u001b[0m\u001b[0;34m\"the runner up is:{}\"\u001b[0m\u001b[0;34m.\u001b[0m\u001b[0mformat\u001b[0m\u001b[0;34m(\u001b[0m\u001b[0mrunner_score\u001b[0m\u001b[0;34m[\u001b[0m\u001b[0;36m0\u001b[0m\u001b[0;34m]\u001b[0m\u001b[0;34m)\u001b[0m\u001b[0;34m)\u001b[0m\u001b[0;34m\u001b[0m\u001b[0;34m\u001b[0m\u001b[0m\n",
            "\u001b[0;31mIndexError\u001b[0m: list index out of range"
          ]
        }
      ]
    },
    {
      "metadata": {
        "id": "Mbxuro2FfYCb",
        "colab_type": "code",
        "colab": {}
      },
      "cell_type": "code",
      "source": [
        "\n",
        "import math\n",
        "import os\n",
        "import random\n",
        "import re\n",
        "import sys\n",
        "\n",
        "# Complete the solve function below.\n",
        "def solve(meal_cost, tip_percent, tax_percent):\n",
        "  total_cost = 0 \n",
        "  tip = meal_cost*(tip_percent/100)\n",
        "  tax = meal_cost*(tax_percent/100)\n",
        "  total_cost = meal_cost + tip +tax\n",
        "  return(print(round(total_cost)))\n",
        "\n",
        "if __name__ == '__main__':\n",
        "    meal_cost = float(input())\n",
        "\n",
        "    tip_percent = int(input())\n",
        "\n",
        "    tax_percent = int(input())\n",
        "\n",
        "    solve(meal_cost, tip_percent, tax_percent)\n"
      ],
      "execution_count": 0,
      "outputs": []
    },
    {
      "metadata": {
        "id": "yIR1al6D4p62",
        "colab_type": "code",
        "outputId": "990b76aa-0755-4f7f-e6a6-d5e38f3f08a9",
        "colab": {
          "base_uri": "https://localhost:8080/",
          "height": 51
        }
      },
      "cell_type": "code",
      "source": [
        "import math\n",
        "import os\n",
        "import random\n",
        "import re\n",
        "import sys\n",
        "\n",
        "\n",
        "\n",
        "if __name__ == '__main__':\n",
        "    N = int(input())\n",
        "    if (N%2 != 0) or (((N%2) == 0) and (N>=6 and N<=20)) :\n",
        "      print(\"Weird\")\n",
        "    elif ((N%2 == 0) and (N>=2 or N<=5)) or ((N%2 == 0) and N>20):\n",
        "      print(\"Not Weird\")\n"
      ],
      "execution_count": 0,
      "outputs": [
        {
          "output_type": "stream",
          "text": [
            "18\n",
            "Weird\n"
          ],
          "name": "stdout"
        }
      ]
    },
    {
      "metadata": {
        "id": "IIEB8tjnBK_8",
        "colab_type": "code",
        "outputId": "ccf5359b-c6b1-48d6-ccf8-65b1c53e1336",
        "colab": {
          "base_uri": "https://localhost:8080/",
          "height": 34
        }
      },
      "cell_type": "code",
      "source": [
        "students = [['Harry', 37.21], ['Berry', 37.21], ['Tina', 37.2], ['Akriti', 41], ['Harsh', 39]]\n",
        "if __name__ == '__main__':\n",
        "  sort = sorted(list(students))\n",
        "  name_sort =[]\n",
        "  i = 0\n",
        "  second = sorted(list)\n",
        "  #for i in range(len(students)):\n",
        "  #  name_sort.append(students[i][0])\n",
        "  print(name_sort)"
      ],
      "execution_count": 0,
      "outputs": [
        {
          "output_type": "stream",
          "text": [
            "['Harry', 'Berry', 'Tina', 'Akriti', 'Harsh']\n"
          ],
          "name": "stdout"
        }
      ]
    },
    {
      "metadata": {
        "id": "wtDGK9VaQBLU",
        "colab_type": "code",
        "outputId": "7e5f6e54-8c09-48e9-e29a-23f705e74169",
        "colab": {
          "base_uri": "https://localhost:8080/",
          "height": 350
        }
      },
      "cell_type": "code",
      "source": [
        "if __name__ == '__main__':\n",
        "    students = []\n",
        "    for _ in range(int(input())):\n",
        "        name = input()\n",
        "        score = float(input())\n",
        "        students.append([name, score])\n",
        "    second_score = sorted(list(key = lambda x: x[1]))\n",
        "    print(students)\n",
        "    print(second_score)\n",
        "    "
      ],
      "execution_count": 0,
      "outputs": [
        {
          "output_type": "stream",
          "text": [
            "3\n",
            "s\n",
            "1\n",
            "f\n",
            "5\n",
            "u\n",
            "6\n"
          ],
          "name": "stdout"
        },
        {
          "output_type": "error",
          "ename": "TypeError",
          "evalue": "ignored",
          "traceback": [
            "\u001b[0;31m---------------------------------------------------------------------------\u001b[0m",
            "\u001b[0;31mTypeError\u001b[0m                                 Traceback (most recent call last)",
            "\u001b[0;32m<ipython-input-40-22db37c492f4>\u001b[0m in \u001b[0;36m<module>\u001b[0;34m()\u001b[0m\n\u001b[1;32m      5\u001b[0m         \u001b[0mscore\u001b[0m \u001b[0;34m=\u001b[0m \u001b[0mfloat\u001b[0m\u001b[0;34m(\u001b[0m\u001b[0minput\u001b[0m\u001b[0;34m(\u001b[0m\u001b[0;34m)\u001b[0m\u001b[0;34m)\u001b[0m\u001b[0;34m\u001b[0m\u001b[0;34m\u001b[0m\u001b[0m\n\u001b[1;32m      6\u001b[0m         \u001b[0mstudents\u001b[0m\u001b[0;34m.\u001b[0m\u001b[0mappend\u001b[0m\u001b[0;34m(\u001b[0m\u001b[0;34m[\u001b[0m\u001b[0mname\u001b[0m\u001b[0;34m,\u001b[0m \u001b[0mscore\u001b[0m\u001b[0;34m]\u001b[0m\u001b[0;34m)\u001b[0m\u001b[0;34m\u001b[0m\u001b[0;34m\u001b[0m\u001b[0m\n\u001b[0;32m----> 7\u001b[0;31m     \u001b[0msecond_score\u001b[0m \u001b[0;34m=\u001b[0m \u001b[0msorted\u001b[0m\u001b[0;34m(\u001b[0m\u001b[0mlist\u001b[0m\u001b[0;34m(\u001b[0m\u001b[0mstudents\u001b[0m \u001b[0;34m=\u001b[0m \u001b[0;32mlambda\u001b[0m \u001b[0mx\u001b[0m\u001b[0;34m:\u001b[0m \u001b[0mx\u001b[0m\u001b[0;34m[\u001b[0m\u001b[0;36m1\u001b[0m\u001b[0;34m]\u001b[0m\u001b[0;34m)\u001b[0m\u001b[0;34m)\u001b[0m\u001b[0;34m\u001b[0m\u001b[0;34m\u001b[0m\u001b[0m\n\u001b[0m\u001b[1;32m      8\u001b[0m     \u001b[0mprint\u001b[0m\u001b[0;34m(\u001b[0m\u001b[0mstudents\u001b[0m\u001b[0;34m)\u001b[0m\u001b[0;34m\u001b[0m\u001b[0;34m\u001b[0m\u001b[0m\n\u001b[1;32m      9\u001b[0m     \u001b[0mprint\u001b[0m\u001b[0;34m(\u001b[0m\u001b[0msecond_score\u001b[0m\u001b[0;34m)\u001b[0m\u001b[0;34m\u001b[0m\u001b[0;34m\u001b[0m\u001b[0m\n",
            "\u001b[0;31mTypeError\u001b[0m: 'students' is an invalid keyword argument for this function"
          ]
        }
      ]
    },
    {
      "metadata": {
        "id": "O7t6tH3sRhtd",
        "colab_type": "code",
        "outputId": "ddafe17b-e593-4e83-d529-8a7ea0ec6709",
        "colab": {
          "base_uri": "https://localhost:8080/",
          "height": 180
        }
      },
      "cell_type": "code",
      "source": [
        "3students = [['Harry', 37.21], ['Berry', 37.21], ['Tina', 37.2], ['Akriti', 41], ['Harsh', 39]]\n",
        "print(students[0].split(\",\"))"
      ],
      "execution_count": 0,
      "outputs": [
        {
          "output_type": "error",
          "ename": "AttributeError",
          "evalue": "ignored",
          "traceback": [
            "\u001b[0;31m---------------------------------------------------------------------------\u001b[0m",
            "\u001b[0;31mAttributeError\u001b[0m                            Traceback (most recent call last)",
            "\u001b[0;32m<ipython-input-31-87310843f6cd>\u001b[0m in \u001b[0;36m<module>\u001b[0;34m()\u001b[0m\n\u001b[1;32m      1\u001b[0m \u001b[0mstudents\u001b[0m \u001b[0;34m=\u001b[0m \u001b[0;34m[\u001b[0m\u001b[0;34m[\u001b[0m\u001b[0;34m'Harry'\u001b[0m\u001b[0;34m,\u001b[0m \u001b[0;36m37.21\u001b[0m\u001b[0;34m]\u001b[0m\u001b[0;34m,\u001b[0m \u001b[0;34m[\u001b[0m\u001b[0;34m'Berry'\u001b[0m\u001b[0;34m,\u001b[0m \u001b[0;36m37.21\u001b[0m\u001b[0;34m]\u001b[0m\u001b[0;34m,\u001b[0m \u001b[0;34m[\u001b[0m\u001b[0;34m'Tina'\u001b[0m\u001b[0;34m,\u001b[0m \u001b[0;36m37.2\u001b[0m\u001b[0;34m]\u001b[0m\u001b[0;34m,\u001b[0m \u001b[0;34m[\u001b[0m\u001b[0;34m'Akriti'\u001b[0m\u001b[0;34m,\u001b[0m \u001b[0;36m41\u001b[0m\u001b[0;34m]\u001b[0m\u001b[0;34m,\u001b[0m \u001b[0;34m[\u001b[0m\u001b[0;34m'Harsh'\u001b[0m\u001b[0;34m,\u001b[0m \u001b[0;36m39\u001b[0m\u001b[0;34m]\u001b[0m\u001b[0;34m]\u001b[0m\u001b[0;34m\u001b[0m\u001b[0;34m\u001b[0m\u001b[0m\n\u001b[0;32m----> 2\u001b[0;31m \u001b[0mprint\u001b[0m\u001b[0;34m(\u001b[0m\u001b[0mstudents\u001b[0m\u001b[0;34m[\u001b[0m\u001b[0;36m0\u001b[0m\u001b[0;34m]\u001b[0m\u001b[0;34m.\u001b[0m\u001b[0msplit\u001b[0m\u001b[0;34m(\u001b[0m\u001b[0;34m\",\"\u001b[0m\u001b[0;34m)\u001b[0m\u001b[0;34m)\u001b[0m\u001b[0;34m\u001b[0m\u001b[0;34m\u001b[0m\u001b[0m\n\u001b[0m",
            "\u001b[0;31mAttributeError\u001b[0m: 'list' object has no attribute 'split'"
          ]
        }
      ]
    },
    {
      "metadata": {
        "id": "p2BsSsSnd8Um",
        "colab_type": "code",
        "outputId": "9778222f-7dd4-4ed5-e8a1-3450627845ce",
        "colab": {
          "base_uri": "https://localhost:8080/",
          "height": 221
        }
      },
      "cell_type": "code",
      "source": [
        "how_many_snakes = 1\n",
        "snake_string = \"\"\"\n",
        "Welcome to Python3!\n",
        "\n",
        "             ____\n",
        "            / . .\\\\\n",
        "            \\  ---<\n",
        "             \\  /\n",
        "   __________/ /\n",
        "-=:___________/\n",
        "\n",
        "<3, Juno\n",
        "\"\"\"\n",
        "\n",
        "\n",
        "print(snake_string * how_many_snakes)"
      ],
      "execution_count": 0,
      "outputs": [
        {
          "output_type": "stream",
          "text": [
            "\n",
            "Welcome to Python3!\n",
            "\n",
            "             ____\n",
            "            / . .\\\n",
            "            \\  ---<\n",
            "             \\  /\n",
            "   __________/ /\n",
            "-=:___________/\n",
            "\n",
            "<3, Juno\n",
            "\n"
          ],
          "name": "stdout"
        }
      ]
    },
    {
      "metadata": {
        "id": "7kF_Rfyfqry4",
        "colab_type": "code",
        "outputId": "8339012e-0158-4b2a-f25c-b9aac39ba93f",
        "colab": {
          "base_uri": "https://localhost:8080/",
          "height": 323
        }
      },
      "cell_type": "code",
      "source": [
        "names = [str(x) for x in input().split()]\n",
        "assignments = [int(x) for x in input().split()]\n",
        "grade = [int(x) for x in input().split()]\n",
        "i = 0\n",
        "for i in range(len(assignments)):\n",
        "  print(\"Hi {},\\n\\nThis is a reminder that you have {} assignments left to submit before you can graduate. You're current grade is {} and can increase to {} if you submit all assignments before the due date.\\n\\n\".format(names[i], assignments[i], grade[i], (grade[i]+5)))"
      ],
      "execution_count": 0,
      "outputs": [
        {
          "output_type": "stream",
          "text": [
            "bg bh nh\n",
            "1 2 3\n",
            "4 5 6\n",
            "Hi bg,\n",
            "\n",
            "This is a reminder that you have 1 assignments left to submit before you can graduate. You're current grade is 4 and can increase to 9 if you submit all assignments before the due date.\n",
            "\n",
            "\n",
            "Hi bh,\n",
            "\n",
            "This is a reminder that you have 2 assignments left to submit before you can graduate. You're current grade is 5 and can increase to 10 if you submit all assignments before the due date.\n",
            "\n",
            "\n",
            "Hi nh,\n",
            "\n",
            "This is a reminder that you have 3 assignments left to submit before you can graduate. You're current grade is 6 and can increase to 11 if you submit all assignments before the due date.\n",
            "\n",
            "\n"
          ],
          "name": "stdout"
        }
      ]
    },
    {
      "metadata": {
        "id": "xs-Nk4LdrVmU",
        "colab_type": "code",
        "outputId": "a4ae71d0-f41b-4be1-d82d-5ee1962b747d",
        "colab": {
          "base_uri": "https://localhost:8080/",
          "height": 554
        }
      },
      "cell_type": "code",
      "source": [
        "def party_planner(cookies, people):\n",
        "    leftovers = None\n",
        "    num_each = None\n",
        "    # TODO: Add a try-except block here to\n",
        "    #       make sure no ZeroDivisionError occurs.\n",
        "    try:\n",
        "        num_each = cookies // people\n",
        "        leftovers = cookies % people\n",
        "    except ZeroDivisonError:\n",
        "        print(\"oops!\")\n",
        "\n",
        "    return(num_each, leftovers)\n",
        "\n",
        "# The main code block is below; do not edit this\n",
        "lets_party = 'y'\n",
        "while lets_party == 'y':\n",
        "\n",
        "    cookies = int(input(\"How many cookies are you baking? \"))\n",
        "    people = int(input(\"How many people are attending? \"))\n",
        "\n",
        "    cookies_each, leftovers = party_planner(cookies, people)\n",
        "\n",
        "    if cookies_each:  # if cookies_each is not None\n",
        "        message = \"\\nLet's party! We'll have {} people attending, they'll each get to eat {} cookies, and we'll have {} left over.\"\n",
        "        print(message.format(people, cookies_each, leftovers))\n",
        "\n",
        "    lets_party = input(\"\\nWould you like to party more? (y or n) \")"
      ],
      "execution_count": 0,
      "outputs": [
        {
          "output_type": "stream",
          "text": [
            "How many cookies are you baking? 32\n",
            "How many people are attending? 0\n"
          ],
          "name": "stdout"
        },
        {
          "output_type": "error",
          "ename": "NameError",
          "evalue": "ignored",
          "traceback": [
            "\u001b[0;31m---------------------------------------------------------------------------\u001b[0m",
            "\u001b[0;31mZeroDivisionError\u001b[0m                         Traceback (most recent call last)",
            "\u001b[0;32m<ipython-input-3-cca876a9990a>\u001b[0m in \u001b[0;36mparty_planner\u001b[0;34m(cookies, people)\u001b[0m\n\u001b[1;32m      6\u001b[0m     \u001b[0;32mtry\u001b[0m\u001b[0;34m:\u001b[0m\u001b[0;34m\u001b[0m\u001b[0;34m\u001b[0m\u001b[0m\n\u001b[0;32m----> 7\u001b[0;31m         \u001b[0mnum_each\u001b[0m \u001b[0;34m=\u001b[0m \u001b[0mcookies\u001b[0m \u001b[0;34m//\u001b[0m \u001b[0mpeople\u001b[0m\u001b[0;34m\u001b[0m\u001b[0;34m\u001b[0m\u001b[0m\n\u001b[0m\u001b[1;32m      8\u001b[0m         \u001b[0mleftovers\u001b[0m \u001b[0;34m=\u001b[0m \u001b[0mcookies\u001b[0m \u001b[0;34m%\u001b[0m \u001b[0mpeople\u001b[0m\u001b[0;34m\u001b[0m\u001b[0;34m\u001b[0m\u001b[0m\n",
            "\u001b[0;31mZeroDivisionError\u001b[0m: integer division or modulo by zero",
            "\nDuring handling of the above exception, another exception occurred:\n",
            "\u001b[0;31mNameError\u001b[0m                                 Traceback (most recent call last)",
            "\u001b[0;32m<ipython-input-3-cca876a9990a>\u001b[0m in \u001b[0;36m<module>\u001b[0;34m()\u001b[0m\n\u001b[1;32m     19\u001b[0m     \u001b[0mpeople\u001b[0m \u001b[0;34m=\u001b[0m \u001b[0mint\u001b[0m\u001b[0;34m(\u001b[0m\u001b[0minput\u001b[0m\u001b[0;34m(\u001b[0m\u001b[0;34m\"How many people are attending? \"\u001b[0m\u001b[0;34m)\u001b[0m\u001b[0;34m)\u001b[0m\u001b[0;34m\u001b[0m\u001b[0;34m\u001b[0m\u001b[0m\n\u001b[1;32m     20\u001b[0m \u001b[0;34m\u001b[0m\u001b[0m\n\u001b[0;32m---> 21\u001b[0;31m     \u001b[0mcookies_each\u001b[0m\u001b[0;34m,\u001b[0m \u001b[0mleftovers\u001b[0m \u001b[0;34m=\u001b[0m \u001b[0mparty_planner\u001b[0m\u001b[0;34m(\u001b[0m\u001b[0mcookies\u001b[0m\u001b[0;34m,\u001b[0m \u001b[0mpeople\u001b[0m\u001b[0;34m)\u001b[0m\u001b[0;34m\u001b[0m\u001b[0;34m\u001b[0m\u001b[0m\n\u001b[0m\u001b[1;32m     22\u001b[0m \u001b[0;34m\u001b[0m\u001b[0m\n\u001b[1;32m     23\u001b[0m     \u001b[0;32mif\u001b[0m \u001b[0mcookies_each\u001b[0m\u001b[0;34m:\u001b[0m  \u001b[0;31m# if cookies_each is not None\u001b[0m\u001b[0;34m\u001b[0m\u001b[0;34m\u001b[0m\u001b[0m\n",
            "\u001b[0;32m<ipython-input-3-cca876a9990a>\u001b[0m in \u001b[0;36mparty_planner\u001b[0;34m(cookies, people)\u001b[0m\n\u001b[1;32m      7\u001b[0m         \u001b[0mnum_each\u001b[0m \u001b[0;34m=\u001b[0m \u001b[0mcookies\u001b[0m \u001b[0;34m//\u001b[0m \u001b[0mpeople\u001b[0m\u001b[0;34m\u001b[0m\u001b[0;34m\u001b[0m\u001b[0m\n\u001b[1;32m      8\u001b[0m         \u001b[0mleftovers\u001b[0m \u001b[0;34m=\u001b[0m \u001b[0mcookies\u001b[0m \u001b[0;34m%\u001b[0m \u001b[0mpeople\u001b[0m\u001b[0;34m\u001b[0m\u001b[0;34m\u001b[0m\u001b[0m\n\u001b[0;32m----> 9\u001b[0;31m     \u001b[0;32mexcept\u001b[0m \u001b[0mZeroDivisonError\u001b[0m\u001b[0;34m:\u001b[0m\u001b[0;34m\u001b[0m\u001b[0;34m\u001b[0m\u001b[0m\n\u001b[0m\u001b[1;32m     10\u001b[0m         \u001b[0mprint\u001b[0m\u001b[0;34m(\u001b[0m\u001b[0;34m\"oops!\"\u001b[0m\u001b[0;34m)\u001b[0m\u001b[0;34m\u001b[0m\u001b[0;34m\u001b[0m\u001b[0m\n\u001b[1;32m     11\u001b[0m \u001b[0;34m\u001b[0m\u001b[0m\n",
            "\u001b[0;31mNameError\u001b[0m: name 'ZeroDivisonError' is not defined"
          ]
        }
      ]
    },
    {
      "metadata": {
        "id": "J-2WouCP1mfC",
        "colab_type": "code",
        "outputId": "ae2e0f32-6fe8-47b9-ad83-8879cd243b1a",
        "colab": {
          "base_uri": "https://localhost:8080/",
          "height": 248
        }
      },
      "cell_type": "code",
      "source": [
        "# initiate empty list to hold user input and sum value of zero\n",
        "user_list = []\n",
        "list_sum = 0\n",
        "\n",
        "# seek user input for ten numbers \n",
        "for i in range(10):\n",
        "    userInput = input(\"Enter any 2-digit number: \").split(\" \")\n",
        "\n",
        "    \n",
        "# check to see if number is even and if yes, add to list_sum\n",
        "# print incorrect value warning  when ValueError exception occurs\n",
        "    try:\n",
        "        number = userInput\n",
        "        user_list.append(number)\n",
        "        if number%2 == 0:\n",
        "            list_sum += number\n",
        "    except ValueError:\n",
        "        print(\"Incorrect value. That's not an int!\")\n",
        "\n",
        "print(\"user_list: {}\".format(user_list))\n",
        "print(\"The sum of the even numbers in user_list is: {}.\".format(list_sum))"
      ],
      "execution_count": 0,
      "outputs": [
        {
          "output_type": "stream",
          "text": [
            "Enter any 2-digit number: 21\n"
          ],
          "name": "stdout"
        },
        {
          "output_type": "error",
          "ename": "TypeError",
          "evalue": "ignored",
          "traceback": [
            "\u001b[0;31m---------------------------------------------------------------------------\u001b[0m",
            "\u001b[0;31mTypeError\u001b[0m                                 Traceback (most recent call last)",
            "\u001b[0;32m<ipython-input-1-6e35e709084d>\u001b[0m in \u001b[0;36m<module>\u001b[0;34m()\u001b[0m\n\u001b[1;32m     12\u001b[0m         \u001b[0mnumber\u001b[0m \u001b[0;34m=\u001b[0m \u001b[0muserInput\u001b[0m\u001b[0;34m\u001b[0m\u001b[0;34m\u001b[0m\u001b[0m\n\u001b[1;32m     13\u001b[0m         \u001b[0muser_list\u001b[0m\u001b[0;34m.\u001b[0m\u001b[0mappend\u001b[0m\u001b[0;34m(\u001b[0m\u001b[0mnumber\u001b[0m\u001b[0;34m)\u001b[0m\u001b[0;34m\u001b[0m\u001b[0;34m\u001b[0m\u001b[0m\n\u001b[0;32m---> 14\u001b[0;31m         \u001b[0;32mif\u001b[0m \u001b[0mnumber\u001b[0m\u001b[0;34m%\u001b[0m\u001b[0;36m2\u001b[0m \u001b[0;34m==\u001b[0m \u001b[0;36m0\u001b[0m\u001b[0;34m:\u001b[0m\u001b[0;34m\u001b[0m\u001b[0;34m\u001b[0m\u001b[0m\n\u001b[0m\u001b[1;32m     15\u001b[0m             \u001b[0mlist_sum\u001b[0m \u001b[0;34m+=\u001b[0m \u001b[0mnumber\u001b[0m\u001b[0;34m\u001b[0m\u001b[0;34m\u001b[0m\u001b[0m\n\u001b[1;32m     16\u001b[0m     \u001b[0;32mexcept\u001b[0m \u001b[0mValueError\u001b[0m\u001b[0;34m:\u001b[0m\u001b[0;34m\u001b[0m\u001b[0;34m\u001b[0m\u001b[0m\n",
            "\u001b[0;31mTypeError\u001b[0m: unsupported operand type(s) for %: 'list' and 'int'"
          ]
        }
      ]
    },
    {
      "metadata": {
        "id": "OOjOmjzrjbq8",
        "colab_type": "code",
        "outputId": "b1d328c0-4b2f-44a6-89da-f39445949572",
        "colab": {
          "base_uri": "https://localhost:8080/",
          "height": 221
        }
      },
      "cell_type": "code",
      "source": [
        "user_list = []  \n",
        "list_sum = 0\n",
        "for i in range(10):\n",
        "    userInput = int(input(\"Enter any number: \"))\n",
        "    try:\n",
        "        user_list.append(userInput)\n",
        "        if userInput % 2 == 0:\n",
        "            list_sum += userInput\n",
        "    except ValueError:\n",
        "        print(\"Incorrect value. That's not an int!\")\n",
        "\n",
        "print(\"user_list: {}\".format(user_list))\n",
        "print(\"The sum of the even numbers in user_list is: {}.\".format(list_sum))\n"
      ],
      "execution_count": 0,
      "outputs": [
        {
          "output_type": "stream",
          "text": [
            "Enter any number: 11\n",
            "Enter any number: 23\n",
            "Enter any number: 34\n",
            "Enter any number: 45\n",
            "Enter any number: 56\n",
            "Enter any number: 67\n",
            "Enter any number: 78\n",
            "Enter any number: 89\n",
            "Enter any number: 90\n",
            "Enter any number: 11\n",
            "user_list: [11, 23, 34, 45, 56, 67, 78, 89, 90, 11]\n",
            "The sum of the even numbers in user_list is: 258.\n"
          ],
          "name": "stdout"
        }
      ]
    },
    {
      "metadata": {
        "id": "U0ScDKyCGyCP",
        "colab_type": "code",
        "colab": {}
      },
      "cell_type": "code",
      "source": [
        ""
      ],
      "execution_count": 0,
      "outputs": []
    },
    {
      "metadata": {
        "id": "BXBt3qOwYTKz",
        "colab_type": "text"
      },
      "cell_type": "markdown",
      "source": [
        "class\n"
      ]
    },
    {
      "metadata": {
        "id": "3sw_M581ctSd",
        "colab_type": "text"
      },
      "cell_type": "markdown",
      "source": [
        "Example : 1\n",
        "\n",
        "Pant class"
      ]
    },
    {
      "metadata": {
        "id": "C7W-nPa6YYVZ",
        "colab_type": "code",
        "colab": {}
      },
      "cell_type": "code",
      "source": [
        "class Pants:\n",
        "  def __init__(self, color, waist_size, length, price):\n",
        "    self.color = color\n",
        "    self.waist_size = waist_size\n",
        "    self.length = length\n",
        "    self.price = price\n",
        "  def change_price(self, new_price):\n",
        "    self.price = new_price\n",
        "  def discount(self, discount):\n",
        "    return(self.price * (1-discount))\n",
        "  \n",
        "    \n",
        "    "
      ],
      "execution_count": 0,
      "outputs": []
    },
    {
      "metadata": {
        "id": "ge8wYs7CcmJy",
        "colab_type": "code",
        "outputId": "08103bba-aacc-4648-9fd3-3583c92e4a0e",
        "colab": {
          "base_uri": "https://localhost:8080/",
          "height": 34
        }
      },
      "cell_type": "code",
      "source": [
        "def check_results():\n",
        "    pants = Pants('red', 35, 36, 15.12)\n",
        "    assert pants.color == 'red'\n",
        "    assert pants.waist_size == 35\n",
        "    assert pants.length == 36\n",
        "    assert pants.price == 15.12\n",
        "    \n",
        "    pants.change_price(10) == 10\n",
        "    assert pants.price == 10 \n",
        "    \n",
        "    assert pants.discount(.1) == 9\n",
        "    \n",
        "    print('You made it to the end of the check. Nice job!')\n",
        "\n",
        "check_results()\n"
      ],
      "execution_count": 0,
      "outputs": [
        {
          "output_type": "stream",
          "text": [
            "You made it to the end of the check. Nice job!\n"
          ],
          "name": "stdout"
        }
      ]
    },
    {
      "metadata": {
        "id": "6h42hnB2c1Ua",
        "colab_type": "text"
      },
      "cell_type": "markdown",
      "source": [
        "Example : 2\n",
        "Salesman"
      ]
    },
    {
      "metadata": {
        "id": "JQE7ZTvmcz5d",
        "colab_type": "code",
        "colab": {}
      },
      "cell_type": "code",
      "source": [
        "class SalesPerson:\n",
        "  \n",
        "  def __init__(self, first_name, last_name, employee_id, salary):\n",
        "    self.first_name = first_name\n",
        "    self.last_name = last_name\n",
        "    self.employee_id = employee_id\n",
        "    self.salary = salary\n",
        "    self.pants_sold = []\n",
        "    self.total_sales = 0\n",
        "\n",
        "  def sell_pants(self, pants_object):\n",
        "    self.pants_sold.append(pants_object)\n",
        "\n",
        "  def display_sales(self):\n",
        "    for pants in self.pants_sold:\n",
        "      print(\"color : {}, waist_size : {}, length : {}, price : {}\".format(self.color, self.waist_size, self.length, self.price))\n",
        "\n",
        "  def calculate_sales(self):\n",
        "    total = 0\n",
        "    for sales in self.pants_sold:\n",
        "      total += sales.price\n",
        "    self.total_sales = total\n",
        "    return total\n",
        "  \n",
        "  def calculate_commission(self, percentage):\n",
        "    sales_total = self.calculate_sales()\n",
        "    return sales_total * percentage\n",
        "    \n",
        "    "
      ],
      "execution_count": 0,
      "outputs": []
    },
    {
      "metadata": {
        "id": "_IrdUPMQzFXD",
        "colab_type": "code",
        "outputId": "f6e63c8d-2809-42e5-a71b-2e0506235d45",
        "colab": {
          "base_uri": "https://localhost:8080/",
          "height": 34
        }
      },
      "cell_type": "code",
      "source": [
        "def check_results():\n",
        "    pants_one = Pants('red', 35, 36, 15.12)\n",
        "    pants_two = Pants('blue', 40, 38, 24.12)\n",
        "    pants_three = Pants('tan', 28, 30, 8.12)\n",
        "    \n",
        "    salesperson = SalesPerson('Amy', 'Gonzalez', 2581923, 40000)\n",
        "    \n",
        "    assert salesperson.first_name == 'Amy'\n",
        "    assert salesperson.last_name == 'Gonzalez'\n",
        "    assert salesperson.employee_id == 2581923\n",
        "    assert salesperson.salary == 40000\n",
        "    assert salesperson.pants_sold == []\n",
        "    assert salesperson.total_sales == 0\n",
        "    \n",
        "    salesperson.sell_pants(pants_one)\n",
        "    salesperson.pants_sold[0] == pants_one.color\n",
        "    \n",
        "    salesperson.sell_pants(pants_two)\n",
        "    salesperson.sell_pants(pants_three)\n",
        "    \n",
        "    assert len(salesperson.pants_sold) == 3\n",
        "    assert round(salesperson.calculate_sales(),2) == 47.36\n",
        "    assert round(salesperson.calculate_commission(.1),2) == 4.74\n",
        "    \n",
        "    print('Great job, you made it to the end of the code checks!')\n",
        "    \n",
        "check_results()"
      ],
      "execution_count": 0,
      "outputs": [
        {
          "output_type": "stream",
          "text": [
            "Great job, you made it to the end of the code checks!\n"
          ],
          "name": "stdout"
        }
      ]
    },
    {
      "metadata": {
        "id": "XvciYxWZYQrK",
        "colab_type": "text"
      },
      "cell_type": "markdown",
      "source": [
        ""
      ]
    }
  ]
}